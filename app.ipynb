{
 "cells": [
  {
   "cell_type": "code",
   "execution_count": null,
   "metadata": {},
   "outputs": [
    {
     "name": "stdout",
     "output_type": "stream",
     "text": [
      "* Running on local URL:  http://127.0.0.1:7860\n",
      "\n",
      "To create a public link, set `share=True` in `launch()`.\n"
     ]
    },
    {
     "data": {
      "text/html": [
       "<div><iframe src=\"http://127.0.0.1:7860/\" width=\"100%\" height=\"500\" allow=\"autoplay; camera; microphone; clipboard-read; clipboard-write;\" frameborder=\"0\" allowfullscreen></iframe></div>"
      ],
      "text/plain": [
       "<IPython.core.display.HTML object>"
      ]
     },
     "metadata": {},
     "output_type": "display_data"
    },
    {
     "data": {
      "text/plain": []
     },
     "execution_count": 1,
     "metadata": {},
     "output_type": "execute_result"
    },
    {
     "name": "stderr",
     "output_type": "stream",
     "text": [
      "Traceback (most recent call last):\n",
      "  File \"c:\\Users\\jedsa\\anaconda3\\Lib\\site-packages\\gradio\\queueing.py\", line 624, in process_events\n",
      "    response = await route_utils.call_process_api(\n",
      "               ^^^^^^^^^^^^^^^^^^^^^^^^^^^^^^^^^^^\n",
      "  File \"c:\\Users\\jedsa\\anaconda3\\Lib\\site-packages\\gradio\\route_utils.py\", line 323, in call_process_api\n",
      "    output = await app.get_blocks().process_api(\n",
      "             ^^^^^^^^^^^^^^^^^^^^^^^^^^^^^^^^^^^\n",
      "  File \"c:\\Users\\jedsa\\anaconda3\\Lib\\site-packages\\gradio\\blocks.py\", line 2018, in process_api\n",
      "    result = await self.call_function(\n",
      "             ^^^^^^^^^^^^^^^^^^^^^^^^^\n",
      "  File \"c:\\Users\\jedsa\\anaconda3\\Lib\\site-packages\\gradio\\blocks.py\", line 1567, in call_function\n",
      "    prediction = await anyio.to_thread.run_sync(  # type: ignore\n",
      "                 ^^^^^^^^^^^^^^^^^^^^^^^^^^^^^^^^^^^^^^^^^^^^^^^\n",
      "  File \"c:\\Users\\jedsa\\anaconda3\\Lib\\site-packages\\anyio\\to_thread.py\", line 56, in run_sync\n",
      "    return await get_async_backend().run_sync_in_worker_thread(\n",
      "           ^^^^^^^^^^^^^^^^^^^^^^^^^^^^^^^^^^^^^^^^^^^^^^^^^^^^\n",
      "  File \"c:\\Users\\jedsa\\anaconda3\\Lib\\site-packages\\anyio\\_backends\\_asyncio.py\", line 2134, in run_sync_in_worker_thread\n",
      "    return await future\n",
      "           ^^^^^^^^^^^^\n",
      "  File \"c:\\Users\\jedsa\\anaconda3\\Lib\\site-packages\\anyio\\_backends\\_asyncio.py\", line 851, in run\n",
      "    result = context.run(func, *args)\n",
      "             ^^^^^^^^^^^^^^^^^^^^^^^^\n",
      "  File \"c:\\Users\\jedsa\\anaconda3\\Lib\\site-packages\\gradio\\utils.py\", line 846, in wrapper\n",
      "    response = f(*args, **kwargs)\n",
      "               ^^^^^^^^^^^^^^^^^^\n",
      "  File \"C:\\Users\\jedsa\\AppData\\Local\\Temp\\ipykernel_15912\\511769181.py\", line 43, in process_image\n",
      "    image = cv2.cvtColor(image, cv2.COLOR_BGR2RGB)\n",
      "            ^^^^^^^^^^^^^^^^^^^^^^^^^^^^^^^^^^^^^^\n",
      "cv2.error: OpenCV(4.10.0) D:\\a\\opencv-python\\opencv-python\\opencv\\modules\\imgproc\\src\\color.cpp:196: error: (-215:Assertion failed) !_src.empty() in function 'cv::cvtColor'\n",
      "\n"
     ]
    },
    {
     "name": "stdout",
     "output_type": "stream",
     "text": [
      "\n",
      "0: 640x640 1 eggplant, 1 garlic, 1 onion, 280.7ms\n",
      "Speed: 14.0ms preprocess, 280.7ms inference, 17.0ms postprocess per image at shape (1, 3, 640, 640)\n",
      "Results saved to \u001b[1mruns\\detect\\predict2\u001b[0m\n",
      "\n",
      "Planning a menu based on the ingredients list...\n",
      "\n",
      "\n",
      "0: 640x640 1 bell_pepper, 1 garlic, 3 lemons, 2 onions, 1 pork, 1 potato, 2 tomaos, 307.3ms\n",
      "Speed: 8.5ms preprocess, 307.3ms inference, 47.4ms postprocess per image at shape (1, 3, 640, 640)\n",
      "Results saved to \u001b[1mruns\\detect\\predict2\u001b[0m\n",
      "\n",
      "Planning a menu based on the ingredients list...\n",
      "\n"
     ]
    }
   ],
   "source": [
    "import os\n",
    "import requests\n",
    "import gradio as gr\n",
    "import google.generativeai as genai\n",
    "from dotenv import load_dotenv\n",
    "from ultralytics import YOLO\n",
    "import cv2\n",
    "\n",
    "# Load environment variables\n",
    "load_dotenv()\n",
    "genai.configure(api_key=os.getenv(\"GEMINI_API_KEY\"))\n",
    "\n",
    "# YOLO model setup\n",
    "model = YOLO(\"best.pt\")  # Replace with your model path if needed\n",
    "\n",
    "# Google Gemini Model configuration\n",
    "generation_config = {\n",
    "    \"temperature\": 0,\n",
    "    \"top_p\": 0.95,\n",
    "    \"top_k\": 64,\n",
    "    \"max_output_tokens\": 8192,\n",
    "    \"response_mime_type\": \"text/plain\",\n",
    "}\n",
    "\n",
    "safety_settings = [\n",
    "    {\"category\": \"HARM_CATEGORY_HARASSMENT\", \"threshold\": \"BLOCK_NONE\"},\n",
    "    {\"category\": \"HARM_CATEGORY_HATE_SPEECH\", \"threshold\": \"BLOCK_MEDIUM_AND_ABOVE\"},\n",
    "    {\"category\": \"HARM_CATEGORY_SEXUALLY_EXPLICIT\", \"threshold\": \"BLOCK_MEDIUM_AND_ABOVE\"},\n",
    "    {\"category\": \"HARM_CATEGORY_DANGEROUS_CONTENT\", \"threshold\": \"BLOCK_MEDIUM_AND_ABOVE\"},\n",
    "]\n",
    "\n",
    "system_instruction = \"\"\"\n",
    "I want a food recipe based on the following ingredients: {}.\n",
    "Please format the recipe with the following sections:\n",
    "Ingredients: List all ingredients required for the recipe.\n",
    "Instructions: Provide clear step-by-step instructions for preparing the recipe.\n",
    "Optional Tips: Include any optional tips for variation or improvement of the recipe.\n",
    "\"\"\"\n",
    "\n",
    "# Updated recipe generation part in process_image\n",
    "def process_image(image):\n",
    "    # Run object detection on the uploaded image\n",
    "    image = cv2.cvtColor(image, cv2.COLOR_BGR2RGB)\n",
    "    results = model.predict(source=image, conf=0.35, save=True)\n",
    "    \n",
    "    # Collect detected items\n",
    "    detected_items = {}\n",
    "    for result in results:\n",
    "        for box in result.boxes:\n",
    "            cls = box.cls\n",
    "            class_name = model.names[int(cls)]\n",
    "            detected_items[class_name] = detected_items.get(class_name, 0) + 1\n",
    "    \n",
    "    # Prepare the list of detected items for the AI model\n",
    "    ingredients_list = \", \".join(detected_items.keys())\n",
    "    prompt = system_instruction.format(ingredients_list)\n",
    "    \n",
    "    # Generate a recipe based on detected items\n",
    "    modelresponse = genai.GenerativeModel(\n",
    "        model_name=\"gemini-1.5-pro\",\n",
    "        safety_settings=safety_settings,\n",
    "        generation_config=generation_config,\n",
    "        system_instruction=\"I want a food recipe based on the following ingredients:{}. Please format the recipe with the following sections:Ingredients: List all ingredients required for the recipe.Instructions: Provide clear step-by-step instructions for preparing the recipe.Optional Tips: Include any optional tips for variation or improvement of the recipe.\",\n",
    "    )\n",
    "    chat_session = modelresponse.start_chat(\n",
    "    history=[]\n",
    "    )\n",
    "\n",
    "    print()\n",
    "    print(\"Planning a menu based on the ingredients list...\")\n",
    "\n",
    "    user_input = (str(detected_items))\n",
    "    print()\n",
    "\n",
    "    response = chat_session.send_message(user_input)\n",
    "\n",
    "    # Extract response text\n",
    "    recipe_response = response.text if hasattr(response, \"text\") else str(response)\n",
    "    \n",
    "    # Return detected items and recipe\n",
    "    return detected_items, recipe_response\n",
    "\n",
    "\n",
    "# Set up the Gradio interface\n",
    "iface = gr.Interface(\n",
    "    fn=process_image,\n",
    "    inputs=\"image\",\n",
    "    outputs=[\"json\", \"text\"],\n",
    "    title=\"Object Detection and Recipe Generator\",\n",
    "    description=\"Upload a picture of food, and this app will detect ingredients and generate a recipe for you.\"\n",
    ")\n",
    "\n",
    "# Launch the Gradio app\n",
    "iface.launch()\n"
   ]
  }
 ],
 "metadata": {
  "kernelspec": {
   "display_name": "base",
   "language": "python",
   "name": "python3"
  },
  "language_info": {
   "codemirror_mode": {
    "name": "ipython",
    "version": 3
   },
   "file_extension": ".py",
   "mimetype": "text/x-python",
   "name": "python",
   "nbconvert_exporter": "python",
   "pygments_lexer": "ipython3",
   "version": "3.12.4"
  }
 },
 "nbformat": 4,
 "nbformat_minor": 2
}
